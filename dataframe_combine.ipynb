{
 "metadata": {
  "language_info": {
   "codemirror_mode": {
    "name": "ipython",
    "version": 3
   },
   "file_extension": ".py",
   "mimetype": "text/x-python",
   "name": "python",
   "nbconvert_exporter": "python",
   "pygments_lexer": "ipython3",
   "version": 3
  },
  "orig_nbformat": 4
 },
 "nbformat": 4,
 "nbformat_minor": 2,
 "cells": [
  {
   "cell_type": "code",
   "execution_count": null,
   "metadata": {},
   "outputs": [],
   "source": [
    "import pandas as pd \n",
    "import numpy as np\n",
    "import torch \n",
    "import os "
   ]
  },
  {
   "cell_type": "code",
   "execution_count": null,
   "metadata": {},
   "outputs": [],
   "source": [
    "dataset_path = '/Users/gursi/Desktop/Pose2Play/move_dataset'\n",
    "labelmap = {'no_move':0, 'hook':1, 'kick':2, 'special':3, 'crouch':4}\n",
    "append_mode = False "
   ]
  },
  {
   "cell_type": "code",
   "execution_count": null,
   "metadata": {},
   "outputs": [],
   "source": [
    "cols = list(range(0,57))\n",
    "cols.insert(0, 'label')\n",
    "if append_mode : \n",
    "    df = pd.read_csv('/Users/gursi/Desktop/hackathon/move_dataset/dataset.csv')\n",
    "else : \n",
    "    df = pd.DataFrame(columns=cols)"
   ]
  },
  {
   "cell_type": "code",
   "execution_count": null,
   "metadata": {},
   "outputs": [],
   "source": [
    "filenames = os.listdir(dataset_path)\n",
    "filenames.remove('.DS_Store')\n",
    "\n",
    "for fname in filenames : \n",
    "    if not(fname.endswith('.csv')):\n",
    "        move_id = float(labelmap[fname[:-3]])\n",
    "        tensor = torch.load(os.path.join(dataset_path, fname))\n",
    "        arr = tensor.numpy()\n",
    "        move_id_col = np.repeat(move_id, arr.shape[0])\n",
    "        out = np.column_stack((move_id_col, arr))\n",
    "        temp_df = pd.DataFrame(out, columns=cols)\n",
    "        df = df.append(temp_df)"
   ]
  },
  {
   "cell_type": "code",
   "execution_count": null,
   "metadata": {},
   "outputs": [],
   "source": [
    "df.head(10)"
   ]
  },
  {
   "cell_type": "code",
   "execution_count": null,
   "metadata": {},
   "outputs": [],
   "source": [
    "df.to_csv('/Users/gursi/Desktop/hackathon/move_dataset/dataset.csv', index=False)"
   ]
  }
 ]
}