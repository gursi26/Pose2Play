{
 "metadata": {
  "language_info": {
   "codemirror_mode": {
    "name": "ipython",
    "version": 3
   },
   "file_extension": ".py",
   "mimetype": "text/x-python",
   "name": "python",
   "nbconvert_exporter": "python",
   "pygments_lexer": "ipython3",
   "version": 3
  },
  "orig_nbformat": 4
 },
 "nbformat": 4,
 "nbformat_minor": 2,
 "cells": [
  {
   "cell_type": "code",
   "execution_count": null,
   "metadata": {},
   "outputs": [],
   "source": [
    "import torch \n",
    "import numpy as np\n",
    "import pandas as pd \n",
    "from torchvision import transforms,datasets \n",
    "from torch.utils.data import DataLoader, Dataset\n",
    "from model import PoseClassification\n",
    "\n",
    "dev = torch.device('cuda' if torch.cuda.is_available() else 'cpu')\n",
    "print(f'Device : {dev}')"
   ]
  },
  {
   "cell_type": "code",
   "execution_count": null,
   "metadata": {},
   "outputs": [],
   "source": [
    "class csv_data(Dataset):\n",
    "\n",
    "    def __init__(self, csv_path, transform = None):\n",
    "        self.arr = np.array(pd.read_csv(csv_path))\n",
    "        self.len = self.arr.shape[0]\n",
    "        self.transform = transform\n",
    "\n",
    "    def __getitem__(self, index):\n",
    "        xvals = self.arr[index][1:]\n",
    "        yvals = self.arr[index][0]\n",
    "        xvals = torch.from_numpy(xvals).to(torch.float32)\n",
    "\n",
    "        if self.transform :\n",
    "            image = self.transform(image)\n",
    "        return xvals, yvals\n",
    "\n",
    "    def __len__(self):\n",
    "        return self.len"
   ]
  },
  {
   "cell_type": "code",
   "execution_count": null,
   "metadata": {},
   "outputs": [],
   "source": [
    "move2id = {'no_move':0, 'hook':1, 'uppercut':2, 'special':3, 'kick':4}\n",
    "id2move = {x:y for y,x in move2id.items()}"
   ]
  },
  {
   "cell_type": "code",
   "execution_count": null,
   "metadata": {},
   "outputs": [],
   "source": [
    "BATCH_SIZE = 10\n",
    "IN_FEATURES = 19 * 3\n",
    "OUT_FEATURES = len(move2id)"
   ]
  },
  {
   "cell_type": "code",
   "execution_count": null,
   "metadata": {},
   "outputs": [],
   "source": [
    "dataset = csv_data('/Users/gursi/Desktop/Pose2Play/move_dataset/dataset.csv')\n",
    "loader = DataLoader(dataset, batch_size=BATCH_SIZE, shuffle=True)\n",
    "model = PoseClassification(IN_FEATURES, OUT_FEATURES).to(dev)"
   ]
  },
  {
   "cell_type": "code",
   "execution_count": null,
   "metadata": {},
   "outputs": [],
   "source": [
    "LR = 0.00001\n",
    "EPOCHS = 30\n",
    "\n",
    "opt = torch.optim.Adam(model.parameters(), lr=LR)\n",
    "crit = torch.nn.CrossEntropyLoss()\n",
    "\n",
    "total_batch_loss = 0\n",
    "for e in range(EPOCHS) : \n",
    "    print(f'Epoch : {e}')\n",
    "    print()\n",
    "    for batch_id, (coords,labels) in enumerate(loader) : \n",
    "\n",
    "        coords, labels = coords.to(dev), labels.to(dev)\n",
    "        labels = labels.to(torch.int64)\n",
    "\n",
    "        opt.zero_grad()\n",
    "        yhat = model(coords)\n",
    "        loss = crit(yhat, labels)\n",
    "        loss.backward()\n",
    "        opt.step()\n",
    "\n",
    "        total_batch_loss += loss.item()\n",
    "        if batch_id % 50 == 0 : \n",
    "            print(f'Batch : {batch_id}')\n",
    "            print(f' | Loss : {total_batch_loss}')\n",
    "            total_batch_loss = 0\n",
    "            torch.save(model.state_dict(), '/Users/gursi/Desktop/hackathon/weights/trained_1.pt')"
   ]
  }
 ]
}